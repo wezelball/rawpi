{
 "cells": [
  {
   "cell_type": "markdown",
   "metadata": {},
   "source": [
    "# Testing a New Despike Algorithm"
   ]
  },
  {
   "cell_type": "code",
   "execution_count": 1,
   "metadata": {},
   "outputs": [],
   "source": [
    "# Imports\n",
    "import sys\n",
    "import pandas as pd\n",
    "import numpy as np\n",
    "from matplotlib import pyplot as plt"
   ]
  },
  {
   "cell_type": "code",
   "execution_count": 2,
   "metadata": {},
   "outputs": [],
   "source": [
    "# Part of the FWHM\n",
    "def peak(x, c):\n",
    "    return np.exp(-np.power(x - c, 2) / 16.0)"
   ]
  },
  {
   "cell_type": "code",
   "execution_count": 3,
   "metadata": {},
   "outputs": [],
   "source": [
    "# Part of the FWHM\n",
    "# Draws the horiz line\n",
    "def lin_interp(x, y, i, half):\n",
    "    return x[i] + (x[i+1] - x[i]) * ((half - y[i]) / (y[i+1] - y[i]))"
   ]
  },
  {
   "cell_type": "code",
   "execution_count": 4,
   "metadata": {},
   "outputs": [],
   "source": [
    "# This is the hanging nuts of the FWHM\n",
    "def half_max_x(x, y):\n",
    "    #half = max(y)/2.0 \n",
    "    half = max(y)/16.0\n",
    "    signs = np.sign(np.add(y, -half))\n",
    "    zero_crossings = (signs[0:-2] != signs[1:-1])\n",
    "    zero_crossings_i = np.where(zero_crossings)[0]\n",
    "    return [lin_interp(x, y, zero_crossings_i[0], half),\n",
    "            lin_interp(x, y, zero_crossings_i[1], half)]"
   ]
  },
  {
   "cell_type": "code",
   "execution_count": 5,
   "metadata": {},
   "outputs": [],
   "source": [
    "def despike_f(yi,th=0.03):\n",
    "    # Dont change the array yi - return changes array\n",
    "    y = np.copy(yi) # use y = yi if it is OK to modify input array\n",
    "    # This is the window that contains the spike and some local background on either side\n",
    "    # Lets's force it to be an odd number so there are equal points on either side of spike\n",
    "    windowsize = 11\n",
    "    # Marker list has samples that contain spikes\n",
    "    marker_list = []\n",
    "    \n",
    "    # Find the samples that have a high ROC\n",
    "    for index,x in enumerate(y):\n",
    "        if index == 0:\n",
    "            xprev = x\n",
    "        else:\n",
    "            ydiff = (x - xprev)/xprev\n",
    "            if ydiff > th:\n",
    "                marker_list.append(index)\n",
    "        xprev = x\n",
    "    \n",
    "    print(f'Spikes detected at: {marker_list}')\n",
    "    \n",
    "    # Interate through each marker and process\n",
    "    for marker in marker_list:\n",
    "        # This should place the peak in the center of the window\n",
    "        window_y = y[int(marker-(windowsize-1)/2):int(marker+(windowsize-1)/2+1)]\n",
    "        print(f'Marker: {marker}\\twindow: {window_y}')\n",
    "        print(f'Peak: {np.amax(window_y)}')\n",
    "        print('')\n",
    "        window_x = np.arange(0, window_y.size, dtype='int')\n",
    "        \n",
    "        print(f'window_x: {window_x}')\n",
    "        print(f'window_y: {window_y}')\n",
    "        \n",
    "        # find the two crossing points\n",
    "        hmx = half_max_x(window_x,window_y)\n",
    "        print(f'hmx: {hmx}')\n",
    "        \n",
    "        # Plot each pulse window\n",
    "        if plot_pulse == True:\n",
    "            fig = plt.figure(figsize=(10,5))\n",
    "            ax=fig.add_axes([0,0,1,1],title = str(marker))\n",
    "            ax.plot(window_y, color='blue')\n",
    "            # Plot a vertical line at peak of the array\n",
    "            xmax = np.argmax(window_y==window_y.max())\n",
    "            plt.axvline(x=xmax)\n",
    "    \n",
    "    return y"
   ]
  },
  {
   "cell_type": "code",
   "execution_count": 6,
   "metadata": {},
   "outputs": [],
   "source": [
    "# Some global variables\n",
    "file_name = '../data/rtl-sdr/tp_20210715_013919.csv'\n",
    "startoff = 300\n",
    "endoff = 0\n",
    "use_despike = True\n",
    "plot_pulse = True"
   ]
  },
  {
   "cell_type": "code",
   "execution_count": 7,
   "metadata": {},
   "outputs": [],
   "source": [
    "# Load the file\n",
    "try:\n",
    "    # Read column 1 as dates\n",
    "    df = pd.read_csv(file_name,header=None, parse_dates=[1])\n",
    "except FileNotFoundError:\n",
    "    print('Please specify a valid filename')\n",
    "    sys.exit()"
   ]
  },
  {
   "cell_type": "code",
   "execution_count": 8,
   "metadata": {},
   "outputs": [],
   "source": [
    "# The first column 0, the date, is not currently used in the plot. Pick\n",
    "# columns 1 and 2 and create a dataframe\n",
    "tp_df = df[[1,2]]"
   ]
  },
  {
   "cell_type": "code",
   "execution_count": 9,
   "metadata": {},
   "outputs": [],
   "source": [
    "# I need to get the columns of the dataframe into a series, then convert to\n",
    "# numpy array, then slice based on start and end offsets\n",
    "# All of that is done in one line of code!\n",
    "if endoff == 0:\n",
    "    tp_array = df[2].to_numpy()[startoff:]\n",
    "    time_array = df[1].to_numpy()[startoff:]\n",
    "else:\n",
    "    tp_array = df[2].to_numpy()[startoff:-endoff]\n",
    "    time_array = df[1].to_numpy()[startoff:-endoff]"
   ]
  },
  {
   "cell_type": "code",
   "execution_count": 10,
   "metadata": {},
   "outputs": [
    {
     "name": "stdout",
     "output_type": "stream",
     "text": [
      "Spikes detected at: [545, 1480, 1556]\n",
      "Marker: 545\twindow: [0.00468546 0.00468622 0.00468487 0.00468513 0.00468515 0.00476732\n",
      " 0.00470222 0.00468194 0.00468351 0.00468662 0.00468668]\n",
      "Peak: 0.004767315063476564\n",
      "\n",
      "window_x: [ 0  1  2  3  4  5  6  7  8  9 10]\n",
      "window_y: [0.00468546 0.00468622 0.00468487 0.00468513 0.00468515 0.00476732\n",
      " 0.00470222 0.00468194 0.00468351 0.00468662 0.00468668]\n"
     ]
    },
    {
     "ename": "IndexError",
     "evalue": "index 0 is out of bounds for axis 0 with size 0",
     "output_type": "error",
     "traceback": [
      "\u001b[0;31m---------------------------------------------------------------------------\u001b[0m",
      "\u001b[0;31mIndexError\u001b[0m                                Traceback (most recent call last)",
      "\u001b[0;32m<ipython-input-10-3fb0182a7e28>\u001b[0m in \u001b[0;36m<module>\u001b[0;34m\u001b[0m\n\u001b[1;32m      1\u001b[0m \u001b[0;31m# Test the despike\u001b[0m\u001b[0;34m\u001b[0m\u001b[0;34m\u001b[0m\u001b[0;34m\u001b[0m\u001b[0m\n\u001b[1;32m      2\u001b[0m \u001b[0;32mif\u001b[0m \u001b[0muse_despike\u001b[0m\u001b[0;34m:\u001b[0m\u001b[0;34m\u001b[0m\u001b[0;34m\u001b[0m\u001b[0m\n\u001b[0;32m----> 3\u001b[0;31m     \u001b[0mtp_array\u001b[0m \u001b[0;34m=\u001b[0m \u001b[0mdespike_f\u001b[0m\u001b[0;34m(\u001b[0m\u001b[0mtp_array\u001b[0m\u001b[0;34m,\u001b[0m \u001b[0mth\u001b[0m\u001b[0;34m=\u001b[0m\u001b[0;36m0.015\u001b[0m\u001b[0;34m)\u001b[0m\u001b[0;34m\u001b[0m\u001b[0;34m\u001b[0m\u001b[0m\n\u001b[0m\u001b[1;32m      4\u001b[0m     \u001b[0mprint\u001b[0m\u001b[0;34m(\u001b[0m\u001b[0;34m'Using despike filter'\u001b[0m\u001b[0;34m)\u001b[0m\u001b[0;34m\u001b[0m\u001b[0;34m\u001b[0m\u001b[0m\n",
      "\u001b[0;32m<ipython-input-5-42143988b365>\u001b[0m in \u001b[0;36mdespike_f\u001b[0;34m(yi, th)\u001b[0m\n\u001b[1;32m     33\u001b[0m \u001b[0;34m\u001b[0m\u001b[0m\n\u001b[1;32m     34\u001b[0m         \u001b[0;31m# find the two crossing points\u001b[0m\u001b[0;34m\u001b[0m\u001b[0;34m\u001b[0m\u001b[0;34m\u001b[0m\u001b[0m\n\u001b[0;32m---> 35\u001b[0;31m         \u001b[0mhmx\u001b[0m \u001b[0;34m=\u001b[0m \u001b[0mhalf_max_x\u001b[0m\u001b[0;34m(\u001b[0m\u001b[0mwindow_x\u001b[0m\u001b[0;34m,\u001b[0m\u001b[0mwindow_y\u001b[0m\u001b[0;34m)\u001b[0m\u001b[0;34m\u001b[0m\u001b[0;34m\u001b[0m\u001b[0m\n\u001b[0m\u001b[1;32m     36\u001b[0m         \u001b[0mprint\u001b[0m\u001b[0;34m(\u001b[0m\u001b[0;34mf'hmx: {hmx}'\u001b[0m\u001b[0;34m)\u001b[0m\u001b[0;34m\u001b[0m\u001b[0;34m\u001b[0m\u001b[0m\n\u001b[1;32m     37\u001b[0m \u001b[0;34m\u001b[0m\u001b[0m\n",
      "\u001b[0;32m<ipython-input-4-79d1bd4b4a3c>\u001b[0m in \u001b[0;36mhalf_max_x\u001b[0;34m(x, y)\u001b[0m\n\u001b[1;32m      6\u001b[0m     \u001b[0mzero_crossings\u001b[0m \u001b[0;34m=\u001b[0m \u001b[0;34m(\u001b[0m\u001b[0msigns\u001b[0m\u001b[0;34m[\u001b[0m\u001b[0;36m0\u001b[0m\u001b[0;34m:\u001b[0m\u001b[0;34m-\u001b[0m\u001b[0;36m2\u001b[0m\u001b[0;34m]\u001b[0m \u001b[0;34m!=\u001b[0m \u001b[0msigns\u001b[0m\u001b[0;34m[\u001b[0m\u001b[0;36m1\u001b[0m\u001b[0;34m:\u001b[0m\u001b[0;34m-\u001b[0m\u001b[0;36m1\u001b[0m\u001b[0;34m]\u001b[0m\u001b[0;34m)\u001b[0m\u001b[0;34m\u001b[0m\u001b[0;34m\u001b[0m\u001b[0m\n\u001b[1;32m      7\u001b[0m     \u001b[0mzero_crossings_i\u001b[0m \u001b[0;34m=\u001b[0m \u001b[0mnp\u001b[0m\u001b[0;34m.\u001b[0m\u001b[0mwhere\u001b[0m\u001b[0;34m(\u001b[0m\u001b[0mzero_crossings\u001b[0m\u001b[0;34m)\u001b[0m\u001b[0;34m[\u001b[0m\u001b[0;36m0\u001b[0m\u001b[0;34m]\u001b[0m\u001b[0;34m\u001b[0m\u001b[0;34m\u001b[0m\u001b[0m\n\u001b[0;32m----> 8\u001b[0;31m     return [lin_interp(x, y, zero_crossings_i[0], half),\n\u001b[0m\u001b[1;32m      9\u001b[0m             lin_interp(x, y, zero_crossings_i[1], half)]\n",
      "\u001b[0;31mIndexError\u001b[0m: index 0 is out of bounds for axis 0 with size 0"
     ]
    }
   ],
   "source": [
    "# Test the despike\n",
    "if use_despike:\n",
    "    tp_array = despike_f(tp_array, th=0.015)\n",
    "    print('Using despike filter')"
   ]
  },
  {
   "cell_type": "code",
   "execution_count": null,
   "metadata": {},
   "outputs": [],
   "source": [
    "fig = plt.figure(figsize=(10,5))\n",
    "ax=fig.add_axes([0,0,1,1],title = f\"Total Power Plot, {file_name}\")\n",
    "ax.plot(tp_array,label='total power', color='black')\n",
    "ax.legend(loc=(0.05,0.8)) # use a location code"
   ]
  },
  {
   "cell_type": "code",
   "execution_count": null,
   "metadata": {},
   "outputs": [],
   "source": []
  }
 ],
 "metadata": {
  "kernelspec": {
   "display_name": "Python 3",
   "language": "python",
   "name": "python3"
  },
  "language_info": {
   "codemirror_mode": {
    "name": "ipython",
    "version": 3
   },
   "file_extension": ".py",
   "mimetype": "text/x-python",
   "name": "python",
   "nbconvert_exporter": "python",
   "pygments_lexer": "ipython3",
   "version": "3.7.4"
  }
 },
 "nbformat": 4,
 "nbformat_minor": 2
}
