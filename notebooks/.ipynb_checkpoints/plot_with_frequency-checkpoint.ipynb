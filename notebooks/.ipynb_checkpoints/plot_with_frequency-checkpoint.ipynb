{
 "cells": [
  {
   "cell_type": "code",
   "execution_count": 1,
   "metadata": {},
   "outputs": [],
   "source": [
    "# This code is kind of old and needs updating - like the ability to plot a window,\n",
    "# not just the entire record"
   ]
  },
  {
   "cell_type": "code",
   "execution_count": 2,
   "metadata": {},
   "outputs": [],
   "source": [
    "# Imports\n",
    "import numpy as np\n",
    "import pandas as pd\n",
    "from matplotlib import pyplot as plt"
   ]
  },
  {
   "cell_type": "code",
   "execution_count": 3,
   "metadata": {},
   "outputs": [],
   "source": [
    "# Some initial values we can adjust\n",
    "row = 594\n",
    "#row = 0\n",
    "\n",
    "# The number of FFT bins - this should be calculated\n",
    "# IS IS NOW\n",
    "#bins = 2048\n"
   ]
  },
  {
   "cell_type": "code",
   "execution_count": 4,
   "metadata": {},
   "outputs": [],
   "source": [
    "# Read in the \"hot\" dataframe\n",
    "df = pd.read_csv('/home/dcohen/Dropbox/Public/ra/laboratory/wire_grid_1420/soapy_power/data/rtl-sdr/spec_20210617_day.csv',header=None)"
   ]
  },
  {
   "cell_type": "code",
   "execution_count": 5,
   "metadata": {},
   "outputs": [
    {
     "data": {
      "text/html": [
       "<div>\n",
       "<style scoped>\n",
       "    .dataframe tbody tr th:only-of-type {\n",
       "        vertical-align: middle;\n",
       "    }\n",
       "\n",
       "    .dataframe tbody tr th {\n",
       "        vertical-align: top;\n",
       "    }\n",
       "\n",
       "    .dataframe thead th {\n",
       "        text-align: right;\n",
       "    }\n",
       "</style>\n",
       "<table border=\"1\" class=\"dataframe\">\n",
       "  <thead>\n",
       "    <tr style=\"text-align: right;\">\n",
       "      <th></th>\n",
       "      <th>0</th>\n",
       "      <th>1</th>\n",
       "      <th>2</th>\n",
       "      <th>3</th>\n",
       "      <th>4</th>\n",
       "      <th>5</th>\n",
       "      <th>6</th>\n",
       "      <th>7</th>\n",
       "      <th>8</th>\n",
       "      <th>9</th>\n",
       "      <th>...</th>\n",
       "      <th>2044</th>\n",
       "      <th>2045</th>\n",
       "      <th>2046</th>\n",
       "      <th>2047</th>\n",
       "      <th>2048</th>\n",
       "      <th>2049</th>\n",
       "      <th>2050</th>\n",
       "      <th>2051</th>\n",
       "      <th>2052</th>\n",
       "      <th>2053</th>\n",
       "    </tr>\n",
       "  </thead>\n",
       "  <tbody>\n",
       "    <tr>\n",
       "      <td>0</td>\n",
       "      <td>2021-06-17</td>\n",
       "      <td>10:52:52</td>\n",
       "      <td>1.419126e+09</td>\n",
       "      <td>1.421686e+09</td>\n",
       "      <td>1250.0</td>\n",
       "      <td>157286400</td>\n",
       "      <td>6.375223e-10</td>\n",
       "      <td>6.397174e-10</td>\n",
       "      <td>6.421606e-10</td>\n",
       "      <td>6.397973e-10</td>\n",
       "      <td>...</td>\n",
       "      <td>6.422254e-10</td>\n",
       "      <td>6.415279e-10</td>\n",
       "      <td>6.405574e-10</td>\n",
       "      <td>6.388417e-10</td>\n",
       "      <td>6.393333e-10</td>\n",
       "      <td>6.379908e-10</td>\n",
       "      <td>6.386452e-10</td>\n",
       "      <td>6.374792e-10</td>\n",
       "      <td>6.371800e-10</td>\n",
       "      <td>6.357434e-10</td>\n",
       "    </tr>\n",
       "    <tr>\n",
       "      <td>1</td>\n",
       "      <td>2021-06-17</td>\n",
       "      <td>10:53:53</td>\n",
       "      <td>1.419126e+09</td>\n",
       "      <td>1.421686e+09</td>\n",
       "      <td>1250.0</td>\n",
       "      <td>157286400</td>\n",
       "      <td>6.170755e-10</td>\n",
       "      <td>6.161530e-10</td>\n",
       "      <td>6.179022e-10</td>\n",
       "      <td>6.206707e-10</td>\n",
       "      <td>...</td>\n",
       "      <td>6.225165e-10</td>\n",
       "      <td>6.197745e-10</td>\n",
       "      <td>6.219311e-10</td>\n",
       "      <td>6.204614e-10</td>\n",
       "      <td>6.184055e-10</td>\n",
       "      <td>6.187515e-10</td>\n",
       "      <td>6.198686e-10</td>\n",
       "      <td>6.206627e-10</td>\n",
       "      <td>6.154408e-10</td>\n",
       "      <td>6.173333e-10</td>\n",
       "    </tr>\n",
       "    <tr>\n",
       "      <td>2</td>\n",
       "      <td>2021-06-17</td>\n",
       "      <td>10:54:55</td>\n",
       "      <td>1.419126e+09</td>\n",
       "      <td>1.421686e+09</td>\n",
       "      <td>1250.0</td>\n",
       "      <td>157286400</td>\n",
       "      <td>6.104031e-10</td>\n",
       "      <td>6.105820e-10</td>\n",
       "      <td>6.085279e-10</td>\n",
       "      <td>6.097410e-10</td>\n",
       "      <td>...</td>\n",
       "      <td>6.140683e-10</td>\n",
       "      <td>6.115448e-10</td>\n",
       "      <td>6.105615e-10</td>\n",
       "      <td>6.129525e-10</td>\n",
       "      <td>6.096819e-10</td>\n",
       "      <td>6.091952e-10</td>\n",
       "      <td>6.076344e-10</td>\n",
       "      <td>6.077885e-10</td>\n",
       "      <td>6.084590e-10</td>\n",
       "      <td>6.106867e-10</td>\n",
       "    </tr>\n",
       "    <tr>\n",
       "      <td>3</td>\n",
       "      <td>2021-06-17</td>\n",
       "      <td>10:55:56</td>\n",
       "      <td>1.419126e+09</td>\n",
       "      <td>1.421686e+09</td>\n",
       "      <td>1250.0</td>\n",
       "      <td>157286400</td>\n",
       "      <td>6.017635e-10</td>\n",
       "      <td>6.040555e-10</td>\n",
       "      <td>6.035775e-10</td>\n",
       "      <td>6.023330e-10</td>\n",
       "      <td>...</td>\n",
       "      <td>6.044349e-10</td>\n",
       "      <td>6.048466e-10</td>\n",
       "      <td>6.046222e-10</td>\n",
       "      <td>6.042211e-10</td>\n",
       "      <td>6.036727e-10</td>\n",
       "      <td>6.042627e-10</td>\n",
       "      <td>6.026016e-10</td>\n",
       "      <td>6.032571e-10</td>\n",
       "      <td>6.026304e-10</td>\n",
       "      <td>5.998428e-10</td>\n",
       "    </tr>\n",
       "    <tr>\n",
       "      <td>4</td>\n",
       "      <td>2021-06-17</td>\n",
       "      <td>10:56:58</td>\n",
       "      <td>1.419126e+09</td>\n",
       "      <td>1.421686e+09</td>\n",
       "      <td>1250.0</td>\n",
       "      <td>157286400</td>\n",
       "      <td>5.952492e-10</td>\n",
       "      <td>5.922580e-10</td>\n",
       "      <td>5.950306e-10</td>\n",
       "      <td>5.959534e-10</td>\n",
       "      <td>...</td>\n",
       "      <td>6.008487e-10</td>\n",
       "      <td>6.022183e-10</td>\n",
       "      <td>5.992722e-10</td>\n",
       "      <td>5.977361e-10</td>\n",
       "      <td>5.972683e-10</td>\n",
       "      <td>5.965342e-10</td>\n",
       "      <td>5.962468e-10</td>\n",
       "      <td>5.944513e-10</td>\n",
       "      <td>5.942319e-10</td>\n",
       "      <td>5.962466e-10</td>\n",
       "    </tr>\n",
       "  </tbody>\n",
       "</table>\n",
       "<p>5 rows × 2054 columns</p>\n",
       "</div>"
      ],
      "text/plain": [
       "         0          1             2             3       4          5     \\\n",
       "0  2021-06-17   10:52:52  1.419126e+09  1.421686e+09  1250.0  157286400   \n",
       "1  2021-06-17   10:53:53  1.419126e+09  1.421686e+09  1250.0  157286400   \n",
       "2  2021-06-17   10:54:55  1.419126e+09  1.421686e+09  1250.0  157286400   \n",
       "3  2021-06-17   10:55:56  1.419126e+09  1.421686e+09  1250.0  157286400   \n",
       "4  2021-06-17   10:56:58  1.419126e+09  1.421686e+09  1250.0  157286400   \n",
       "\n",
       "           6             7             8             9     ...          2044  \\\n",
       "0  6.375223e-10  6.397174e-10  6.421606e-10  6.397973e-10  ...  6.422254e-10   \n",
       "1  6.170755e-10  6.161530e-10  6.179022e-10  6.206707e-10  ...  6.225165e-10   \n",
       "2  6.104031e-10  6.105820e-10  6.085279e-10  6.097410e-10  ...  6.140683e-10   \n",
       "3  6.017635e-10  6.040555e-10  6.035775e-10  6.023330e-10  ...  6.044349e-10   \n",
       "4  5.952492e-10  5.922580e-10  5.950306e-10  5.959534e-10  ...  6.008487e-10   \n",
       "\n",
       "           2045          2046          2047          2048          2049  \\\n",
       "0  6.415279e-10  6.405574e-10  6.388417e-10  6.393333e-10  6.379908e-10   \n",
       "1  6.197745e-10  6.219311e-10  6.204614e-10  6.184055e-10  6.187515e-10   \n",
       "2  6.115448e-10  6.105615e-10  6.129525e-10  6.096819e-10  6.091952e-10   \n",
       "3  6.048466e-10  6.046222e-10  6.042211e-10  6.036727e-10  6.042627e-10   \n",
       "4  6.022183e-10  5.992722e-10  5.977361e-10  5.972683e-10  5.965342e-10   \n",
       "\n",
       "           2050          2051          2052          2053  \n",
       "0  6.386452e-10  6.374792e-10  6.371800e-10  6.357434e-10  \n",
       "1  6.198686e-10  6.206627e-10  6.154408e-10  6.173333e-10  \n",
       "2  6.076344e-10  6.077885e-10  6.084590e-10  6.106867e-10  \n",
       "3  6.026016e-10  6.032571e-10  6.026304e-10  5.998428e-10  \n",
       "4  5.962468e-10  5.944513e-10  5.942319e-10  5.962466e-10  \n",
       "\n",
       "[5 rows x 2054 columns]"
      ]
     },
     "execution_count": 5,
     "metadata": {},
     "output_type": "execute_result"
    }
   ],
   "source": [
    "df.head()"
   ]
  },
  {
   "cell_type": "code",
   "execution_count": 6,
   "metadata": {},
   "outputs": [],
   "source": [
    "# Calculate number of bins\n",
    "bins = df.shape[1] - 6\n",
    "#print(f'number of bins: {fft_num_bins}')"
   ]
  },
  {
   "cell_type": "markdown",
   "metadata": {},
   "source": [
    "### Read in the \"hot\" dataframe\n",
    "Cols 2 thru 5 define the frequency and bin information, as follows:\n",
    "    Col 2: Start freq, in Hz\n",
    "    Col 3: End freq, in Hz\n",
    "    Col 4: Bin size, in Hz\n",
    "    Col 5: Buffer size, in samples\n"
   ]
  },
  {
   "cell_type": "code",
   "execution_count": 7,
   "metadata": {},
   "outputs": [],
   "source": [
    "# Let' start by making a frequency series that has the same length as the data series (1024 columns)\n",
    "# I shouldn't hardcode the number of columns but rather calculate it - dood"
   ]
  },
  {
   "cell_type": "code",
   "execution_count": 8,
   "metadata": {},
   "outputs": [
    {
     "data": {
      "text/plain": [
       "array([1.41915600e+09, 1.41915722e+09, 1.41915844e+09, ...,\n",
       "       1.42165356e+09, 1.42165478e+09, 1.42165600e+09])"
      ]
     },
     "execution_count": 8,
     "metadata": {},
     "output_type": "execute_result"
    }
   ],
   "source": [
    "# numpy.linspace(start, stop, num=50, endpoint=True, retstep=False, dtype=None, axis=0)\n",
    "np.linspace(1.419156e9, 1.421656e9, num = bins, endpoint=True)"
   ]
  },
  {
   "cell_type": "code",
   "execution_count": 9,
   "metadata": {},
   "outputs": [],
   "source": [
    "# Convert nparray into a series\n",
    "freq_series = pd.Series(np.linspace(1.419156e9, 1.421656e9, num = bins, endpoint=True))"
   ]
  },
  {
   "cell_type": "code",
   "execution_count": 10,
   "metadata": {},
   "outputs": [
    {
     "data": {
      "text/plain": [
       "0       1.419156e+09\n",
       "1       1.419157e+09\n",
       "2       1.419158e+09\n",
       "3       1.419160e+09\n",
       "4       1.419161e+09\n",
       "            ...     \n",
       "2043    1.421651e+09\n",
       "2044    1.421652e+09\n",
       "2045    1.421654e+09\n",
       "2046    1.421655e+09\n",
       "2047    1.421656e+09\n",
       "Length: 2048, dtype: float64"
      ]
     },
     "execution_count": 10,
     "metadata": {},
     "output_type": "execute_result"
    }
   ],
   "source": [
    "freq_series"
   ]
  },
  {
   "cell_type": "code",
   "execution_count": 11,
   "metadata": {},
   "outputs": [],
   "source": [
    "# Get only the actual data in a single row, leaving out the time - starting from column 6 to end\n",
    "dfhot_series = df.iloc[row,6:]"
   ]
  },
  {
   "cell_type": "code",
   "execution_count": 12,
   "metadata": {},
   "outputs": [
    {
     "data": {
      "text/plain": [
       "6       4.31767e-10\n",
       "7       4.32873e-10\n",
       "8       4.31594e-10\n",
       "9       4.30825e-10\n",
       "10      4.33698e-10\n",
       "           ...     \n",
       "2049    4.34113e-10\n",
       "2050    4.35161e-10\n",
       "2051    4.34324e-10\n",
       "2052    4.34133e-10\n",
       "2053    4.32507e-10\n",
       "Name: 594, Length: 2048, dtype: object"
      ]
     },
     "execution_count": 12,
     "metadata": {},
     "output_type": "execute_result"
    }
   ],
   "source": [
    "dfhot_series"
   ]
  },
  {
   "cell_type": "code",
   "execution_count": 13,
   "metadata": {},
   "outputs": [],
   "source": [
    "# This replaces the integer index with the frequency increments\n",
    "dfhot_series.index = freq_series"
   ]
  },
  {
   "cell_type": "code",
   "execution_count": 14,
   "metadata": {},
   "outputs": [
    {
     "data": {
      "text/plain": [
       "1.419156e+09    4.31767e-10\n",
       "1.419157e+09    4.32873e-10\n",
       "1.419158e+09    4.31594e-10\n",
       "1.419160e+09    4.30825e-10\n",
       "1.419161e+09    4.33698e-10\n",
       "                   ...     \n",
       "1.421651e+09    4.34113e-10\n",
       "1.421652e+09    4.35161e-10\n",
       "1.421654e+09    4.34324e-10\n",
       "1.421655e+09    4.34133e-10\n",
       "1.421656e+09    4.32507e-10\n",
       "Name: 594, Length: 2048, dtype: object"
      ]
     },
     "execution_count": 14,
     "metadata": {},
     "output_type": "execute_result"
    }
   ],
   "source": [
    "# Thanks, stackoverflow - I would've never figured this out\n",
    "dfhot_series"
   ]
  },
  {
   "cell_type": "code",
   "execution_count": 15,
   "metadata": {},
   "outputs": [
    {
     "data": {
      "image/png": "[encoded data removed]",
      "text/plain": [
       "<Figure size 1080x720 with 1 Axes>"
      ]
     },
     "metadata": {
      "needs_background": "light"
     },
     "output_type": "display_data"
    }
   ],
   "source": [
    "# I can do better than this - how about plotting hot and ref together?\n",
    "dfhot_series.plot(figsize=(15,10))\n",
    "plt.show()"
   ]
  },
  {
   "cell_type": "code",
   "execution_count": 16,
   "metadata": {},
   "outputs": [],
   "source": [
    "# Oooooooooooooowahhhhhhhhhh!!"
   ]
  }
 ],
 "metadata": {
  "kernelspec": {
   "display_name": "Python 3",
   "language": "python",
   "name": "python3"
  },
  "language_info": {
   "codemirror_mode": {
    "name": "ipython",
    "version": 3
   },
   "file_extension": ".py",
   "mimetype": "text/x-python",
   "name": "python",
   "nbconvert_exporter": "python",
   "pygments_lexer": "ipython3",
   "version": "3.7.4"
  }
 },
 "nbformat": 4,
 "nbformat_minor": 2
}
