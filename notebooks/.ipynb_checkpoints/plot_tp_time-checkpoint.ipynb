{
 "cells": [
  {
   "cell_type": "markdown",
   "id": "4c0e8116",
   "metadata": {},
   "source": [
    "# Plotting Total Power Data with Correct Time Representation\n",
    "This is to solve the problem of wrapping the plot when cycling from 2300 to 000 hours"
   ]
  },
  {
   "cell_type": "code",
   "execution_count": 1,
   "id": "5deb77ee",
   "metadata": {},
   "outputs": [],
   "source": [
    "# Imports\n",
    "import sys\n",
    "import pandas as pd\n",
    "import numpy as np\n",
    "# my pandas dun tole me, to do da next line, baby yeahhh...\n",
    "from pandas.plotting import register_matplotlib_converters\n",
    "from matplotlib import pyplot as plt\n",
    "import matplotlib.dates as mdates"
   ]
  },
  {
   "cell_type": "code",
   "execution_count": 2,
   "id": "2de3ce41",
   "metadata": {},
   "outputs": [],
   "source": [
    "# Load the file\n",
    "file_name = 'data_tp.csv'\n",
    "\n",
    "try:\n",
    "    # Read column 1 as dates\n",
    "    df = pd.read_csv(file_name,header=None, parse_dates=[1])\n",
    "except FileNotFoundError:\n",
    "    print('Please specify a valid path filename with --filename.')\n",
    "    sys.exit()"
   ]
  },
  {
   "cell_type": "code",
   "execution_count": 3,
   "id": "79005dae",
   "metadata": {},
   "outputs": [
    {
     "data": {
      "text/html": [
       "<div>\n",
       "<style scoped>\n",
       "    .dataframe tbody tr th:only-of-type {\n",
       "        vertical-align: middle;\n",
       "    }\n",
       "\n",
       "    .dataframe tbody tr th {\n",
       "        vertical-align: top;\n",
       "    }\n",
       "\n",
       "    .dataframe thead th {\n",
       "        text-align: right;\n",
       "    }\n",
       "</style>\n",
       "<table border=\"1\" class=\"dataframe\">\n",
       "  <thead>\n",
       "    <tr style=\"text-align: right;\">\n",
       "      <th></th>\n",
       "      <th>0</th>\n",
       "      <th>1</th>\n",
       "      <th>2</th>\n",
       "    </tr>\n",
       "  </thead>\n",
       "  <tbody>\n",
       "    <tr>\n",
       "      <th>0</th>\n",
       "      <td>2021-07-17</td>\n",
       "      <td>2021-07-29 01:43:49</td>\n",
       "      <td>0.006877</td>\n",
       "    </tr>\n",
       "    <tr>\n",
       "      <th>1</th>\n",
       "      <td>2021-07-17</td>\n",
       "      <td>2021-07-29 01:44:00</td>\n",
       "      <td>0.006558</td>\n",
       "    </tr>\n",
       "    <tr>\n",
       "      <th>2</th>\n",
       "      <td>2021-07-17</td>\n",
       "      <td>2021-07-29 01:44:10</td>\n",
       "      <td>0.006413</td>\n",
       "    </tr>\n",
       "    <tr>\n",
       "      <th>3</th>\n",
       "      <td>2021-07-17</td>\n",
       "      <td>2021-07-29 01:44:21</td>\n",
       "      <td>0.006308</td>\n",
       "    </tr>\n",
       "    <tr>\n",
       "      <th>4</th>\n",
       "      <td>2021-07-17</td>\n",
       "      <td>2021-07-29 01:44:31</td>\n",
       "      <td>0.006223</td>\n",
       "    </tr>\n",
       "  </tbody>\n",
       "</table>\n",
       "</div>"
      ],
      "text/plain": [
       "            0                   1         2\n",
       "0  2021-07-17 2021-07-29 01:43:49  0.006877\n",
       "1  2021-07-17 2021-07-29 01:44:00  0.006558\n",
       "2  2021-07-17 2021-07-29 01:44:10  0.006413\n",
       "3  2021-07-17 2021-07-29 01:44:21  0.006308\n",
       "4  2021-07-17 2021-07-29 01:44:31  0.006223"
      ]
     },
     "execution_count": 3,
     "metadata": {},
     "output_type": "execute_result"
    }
   ],
   "source": [
    "df.head()"
   ]
  },
  {
   "cell_type": "code",
   "execution_count": 5,
   "id": "29c8b8b3",
   "metadata": {},
   "outputs": [
    {
     "data": {
      "text/plain": [
       "pandas._libs.tslibs.timestamps.Timestamp"
      ]
     },
     "execution_count": 5,
     "metadata": {},
     "output_type": "execute_result"
    }
   ],
   "source": [
    "type(df[1][0])"
   ]
  },
  {
   "cell_type": "code",
   "execution_count": null,
   "id": "145de9b9",
   "metadata": {},
   "outputs": [],
   "source": []
  }
 ],
 "metadata": {
  "kernelspec": {
   "display_name": "Python 3 (ipykernel)",
   "language": "python",
   "name": "python3"
  },
  "language_info": {
   "codemirror_mode": {
    "name": "ipython",
    "version": 3
   },
   "file_extension": ".py",
   "mimetype": "text/x-python",
   "name": "python",
   "nbconvert_exporter": "python",
   "pygments_lexer": "ipython3",
   "version": "3.9.6"
  }
 },
 "nbformat": 4,
 "nbformat_minor": 5
}
