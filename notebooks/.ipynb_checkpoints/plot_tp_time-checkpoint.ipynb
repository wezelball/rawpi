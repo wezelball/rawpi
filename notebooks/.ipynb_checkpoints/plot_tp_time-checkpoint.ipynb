{
 "cells": [
  {
   "cell_type": "markdown",
   "id": "4c0e8116",
   "metadata": {},
   "source": [
    "# Plotting Total Power Data with Correct Time Representation\n",
    "This is to solve the problem of wrapping the plot when cycling from 2300 to 000 hours"
   ]
  },
  {
   "cell_type": "code",
   "execution_count": 1,
   "id": "5deb77ee",
   "metadata": {},
   "outputs": [],
   "source": [
    "# Imports\n",
    "import sys\n",
    "import pandas as pd\n",
    "import numpy as np\n",
    "# my pandas dun tole me, to do da next line, baby yeahhh...\n",
    "from pandas.plotting import register_matplotlib_converters\n",
    "from matplotlib import pyplot as plt\n",
    "import matplotlib.dates as mdates\n",
    "from datetime import datetime"
   ]
  },
  {
   "cell_type": "code",
   "execution_count": 2,
   "id": "2de3ce41",
   "metadata": {},
   "outputs": [],
   "source": [
    "# Load the file\n",
    "file_name = 'data_tp.csv'\n",
    "\n",
    "try:\n",
    "    # Read column 1 as dates\n",
    "    #df = pd.read_csv(file_name,header=None, parse_dates=[1])\n",
    "    df = pd.read_csv(file_name,header=None)\n",
    "except FileNotFoundError:\n",
    "    print('Please specify a valid path filename with --filename.')\n",
    "    sys.exit()"
   ]
  },
  {
   "cell_type": "code",
   "execution_count": 3,
   "id": "79005dae",
   "metadata": {},
   "outputs": [
    {
     "data": {
      "text/html": [
       "<div>\n",
       "<style scoped>\n",
       "    .dataframe tbody tr th:only-of-type {\n",
       "        vertical-align: middle;\n",
       "    }\n",
       "\n",
       "    .dataframe tbody tr th {\n",
       "        vertical-align: top;\n",
       "    }\n",
       "\n",
       "    .dataframe thead th {\n",
       "        text-align: right;\n",
       "    }\n",
       "</style>\n",
       "<table border=\"1\" class=\"dataframe\">\n",
       "  <thead>\n",
       "    <tr style=\"text-align: right;\">\n",
       "      <th></th>\n",
       "      <th>0</th>\n",
       "      <th>1</th>\n",
       "      <th>2</th>\n",
       "    </tr>\n",
       "  </thead>\n",
       "  <tbody>\n",
       "    <tr>\n",
       "      <th>0</th>\n",
       "      <td>2021-07-17</td>\n",
       "      <td>01:43:49</td>\n",
       "      <td>0.006877</td>\n",
       "    </tr>\n",
       "    <tr>\n",
       "      <th>1</th>\n",
       "      <td>2021-07-17</td>\n",
       "      <td>01:44:00</td>\n",
       "      <td>0.006558</td>\n",
       "    </tr>\n",
       "    <tr>\n",
       "      <th>2</th>\n",
       "      <td>2021-07-17</td>\n",
       "      <td>01:44:10</td>\n",
       "      <td>0.006413</td>\n",
       "    </tr>\n",
       "    <tr>\n",
       "      <th>3</th>\n",
       "      <td>2021-07-17</td>\n",
       "      <td>01:44:21</td>\n",
       "      <td>0.006308</td>\n",
       "    </tr>\n",
       "    <tr>\n",
       "      <th>4</th>\n",
       "      <td>2021-07-17</td>\n",
       "      <td>01:44:31</td>\n",
       "      <td>0.006223</td>\n",
       "    </tr>\n",
       "  </tbody>\n",
       "</table>\n",
       "</div>"
      ],
      "text/plain": [
       "            0         1         2\n",
       "0  2021-07-17  01:43:49  0.006877\n",
       "1  2021-07-17  01:44:00  0.006558\n",
       "2  2021-07-17  01:44:10  0.006413\n",
       "3  2021-07-17  01:44:21  0.006308\n",
       "4  2021-07-17  01:44:31  0.006223"
      ]
     },
     "execution_count": 3,
     "metadata": {},
     "output_type": "execute_result"
    }
   ],
   "source": [
    "df.head()"
   ]
  },
  {
   "cell_type": "code",
   "execution_count": 4,
   "id": "3c934d4e",
   "metadata": {},
   "outputs": [],
   "source": [
    "# Combine the date and time column to a 3rd column which is date plus time\n",
    "df[3] = df[0] + ' ' + df[1]"
   ]
  },
  {
   "cell_type": "code",
   "execution_count": 5,
   "id": "ecbf1482",
   "metadata": {},
   "outputs": [
    {
     "data": {
      "text/html": [
       "<div>\n",
       "<style scoped>\n",
       "    .dataframe tbody tr th:only-of-type {\n",
       "        vertical-align: middle;\n",
       "    }\n",
       "\n",
       "    .dataframe tbody tr th {\n",
       "        vertical-align: top;\n",
       "    }\n",
       "\n",
       "    .dataframe thead th {\n",
       "        text-align: right;\n",
       "    }\n",
       "</style>\n",
       "<table border=\"1\" class=\"dataframe\">\n",
       "  <thead>\n",
       "    <tr style=\"text-align: right;\">\n",
       "      <th></th>\n",
       "      <th>0</th>\n",
       "      <th>1</th>\n",
       "      <th>2</th>\n",
       "      <th>3</th>\n",
       "    </tr>\n",
       "  </thead>\n",
       "  <tbody>\n",
       "    <tr>\n",
       "      <th>0</th>\n",
       "      <td>2021-07-17</td>\n",
       "      <td>01:43:49</td>\n",
       "      <td>0.006877</td>\n",
       "      <td>2021-07-17 01:43:49</td>\n",
       "    </tr>\n",
       "    <tr>\n",
       "      <th>1</th>\n",
       "      <td>2021-07-17</td>\n",
       "      <td>01:44:00</td>\n",
       "      <td>0.006558</td>\n",
       "      <td>2021-07-17 01:44:00</td>\n",
       "    </tr>\n",
       "    <tr>\n",
       "      <th>2</th>\n",
       "      <td>2021-07-17</td>\n",
       "      <td>01:44:10</td>\n",
       "      <td>0.006413</td>\n",
       "      <td>2021-07-17 01:44:10</td>\n",
       "    </tr>\n",
       "    <tr>\n",
       "      <th>3</th>\n",
       "      <td>2021-07-17</td>\n",
       "      <td>01:44:21</td>\n",
       "      <td>0.006308</td>\n",
       "      <td>2021-07-17 01:44:21</td>\n",
       "    </tr>\n",
       "    <tr>\n",
       "      <th>4</th>\n",
       "      <td>2021-07-17</td>\n",
       "      <td>01:44:31</td>\n",
       "      <td>0.006223</td>\n",
       "      <td>2021-07-17 01:44:31</td>\n",
       "    </tr>\n",
       "  </tbody>\n",
       "</table>\n",
       "</div>"
      ],
      "text/plain": [
       "            0         1         2                    3\n",
       "0  2021-07-17  01:43:49  0.006877  2021-07-17 01:43:49\n",
       "1  2021-07-17  01:44:00  0.006558  2021-07-17 01:44:00\n",
       "2  2021-07-17  01:44:10  0.006413  2021-07-17 01:44:10\n",
       "3  2021-07-17  01:44:21  0.006308  2021-07-17 01:44:21\n",
       "4  2021-07-17  01:44:31  0.006223  2021-07-17 01:44:31"
      ]
     },
     "execution_count": 5,
     "metadata": {},
     "output_type": "execute_result"
    }
   ],
   "source": [
    "df.head()"
   ]
  },
  {
   "cell_type": "code",
   "execution_count": 6,
   "id": "c283bc91",
   "metadata": {},
   "outputs": [],
   "source": [
    "df[3] = pd.to_datetime(df[3])"
   ]
  },
  {
   "cell_type": "code",
   "execution_count": 7,
   "id": "b55714f2",
   "metadata": {},
   "outputs": [
    {
     "data": {
      "text/plain": [
       "0      2021-07-17 01:43:49\n",
       "1      2021-07-17 01:44:00\n",
       "2      2021-07-17 01:44:10\n",
       "3      2021-07-17 01:44:21\n",
       "4      2021-07-17 01:44:31\n",
       "               ...        \n",
       "3954   2021-07-17 13:17:45\n",
       "3955   2021-07-17 13:17:56\n",
       "3956   2021-07-17 13:18:06\n",
       "3957   2021-07-17 13:18:17\n",
       "3958   2021-07-17 13:18:28\n",
       "Name: 3, Length: 3959, dtype: datetime64[ns]"
      ]
     },
     "execution_count": 7,
     "metadata": {},
     "output_type": "execute_result"
    }
   ],
   "source": [
    "df[3]"
   ]
  },
  {
   "cell_type": "code",
   "execution_count": 8,
   "id": "e93eff9f",
   "metadata": {},
   "outputs": [],
   "source": [
    "x_axis = df[3]\n",
    "y_axis = df[2]"
   ]
  },
  {
   "cell_type": "code",
   "execution_count": 10,
   "id": "fa328bf9",
   "metadata": {},
   "outputs": [
    {
     "data": {
      "text/plain": [
       "[<matplotlib.lines.Line2D at 0xffff52cd6f10>]"
      ]
     },
     "execution_count": 10,
     "metadata": {},
     "output_type": "execute_result"
    },
    {
     "data": {
      "image/png": "[encoded data removed]",
      "text/plain": [
       "<Figure size 720x360 with 1 Axes>"
      ]
     },
     "metadata": {
      "needs_background": "light"
     },
     "output_type": "display_data"
    }
   ],
   "source": [
    "# Now try to plot\n",
    "fig = plt.figure(figsize=(10,5))\n",
    "ax=fig.add_axes([0,0,1,1],title = f\"Total Power Plot, {file_name}\")\n",
    "ax.xaxis.set_major_formatter(mdates.DateFormatter(\"%H-%M\"))\n",
    "\n",
    "ax.plot(x_axis, y_axis,label='testing', color='black')"
   ]
  },
  {
   "cell_type": "code",
   "execution_count": null,
   "id": "5ad3d82c",
   "metadata": {},
   "outputs": [],
   "source": []
  }
 ],
 "metadata": {
  "kernelspec": {
   "display_name": "Python 3 (ipykernel)",
   "language": "python",
   "name": "python3"
  },
  "language_info": {
   "codemirror_mode": {
    "name": "ipython",
    "version": 3
   },
   "file_extension": ".py",
   "mimetype": "text/x-python",
   "name": "python",
   "nbconvert_exporter": "python",
   "pygments_lexer": "ipython3",
   "version": "3.9.6"
  }
 },
 "nbformat": 4,
 "nbformat_minor": 5
}
