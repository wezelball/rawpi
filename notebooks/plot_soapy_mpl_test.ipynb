{
 "cells": [
  {
   "cell_type": "code",
   "execution_count": 164,
   "metadata": {},
   "outputs": [],
   "source": [
    "# Investigation into cold sky subtraction"
   ]
  },
  {
   "cell_type": "code",
   "execution_count": 165,
   "metadata": {},
   "outputs": [],
   "source": [
    "# Imports\n",
    "import numpy as np\n",
    "import pandas as pd\n",
    "from matplotlib import pyplot as plt"
   ]
  },
  {
   "cell_type": "code",
   "execution_count": 166,
   "metadata": {},
   "outputs": [],
   "source": [
    "# Read in the \"hot\" dataframe\n",
    "dfhot = pd.read_csv('/home/dcohen/Dropbox/Public/ra/laboratory/devel/soapy/data/airspy/spec_20210516.csv',header=None)"
   ]
  },
  {
   "cell_type": "code",
   "execution_count": 167,
   "metadata": {},
   "outputs": [
    {
     "data": {
      "text/html": [
       "<div>\n",
       "<style scoped>\n",
       "    .dataframe tbody tr th:only-of-type {\n",
       "        vertical-align: middle;\n",
       "    }\n",
       "\n",
       "    .dataframe tbody tr th {\n",
       "        vertical-align: top;\n",
       "    }\n",
       "\n",
       "    .dataframe thead th {\n",
       "        text-align: right;\n",
       "    }\n",
       "</style>\n",
       "<table border=\"1\" class=\"dataframe\">\n",
       "  <thead>\n",
       "    <tr style=\"text-align: right;\">\n",
       "      <th></th>\n",
       "      <th>0</th>\n",
       "      <th>1</th>\n",
       "      <th>2</th>\n",
       "      <th>3</th>\n",
       "      <th>4</th>\n",
       "      <th>5</th>\n",
       "      <th>6</th>\n",
       "      <th>7</th>\n",
       "      <th>8</th>\n",
       "      <th>9</th>\n",
       "      <th>...</th>\n",
       "      <th>1020</th>\n",
       "      <th>1021</th>\n",
       "      <th>1022</th>\n",
       "      <th>1023</th>\n",
       "      <th>1024</th>\n",
       "      <th>1025</th>\n",
       "      <th>1026</th>\n",
       "      <th>1027</th>\n",
       "      <th>1028</th>\n",
       "      <th>1029</th>\n",
       "    </tr>\n",
       "  </thead>\n",
       "  <tbody>\n",
       "    <tr>\n",
       "      <td>0</td>\n",
       "      <td>2021-05-16</td>\n",
       "      <td>01:48:51</td>\n",
       "      <td>1.419156e+09</td>\n",
       "      <td>1.421656e+09</td>\n",
       "      <td>2441.40625</td>\n",
       "      <td>52428800</td>\n",
       "      <td>-120.37350</td>\n",
       "      <td>-120.119286</td>\n",
       "      <td>-119.796770</td>\n",
       "      <td>-119.46457</td>\n",
       "      <td>...</td>\n",
       "      <td>-120.12666</td>\n",
       "      <td>-120.176170</td>\n",
       "      <td>-120.278090</td>\n",
       "      <td>-120.14093</td>\n",
       "      <td>-120.11672</td>\n",
       "      <td>-120.24888</td>\n",
       "      <td>-120.255646</td>\n",
       "      <td>-120.244360</td>\n",
       "      <td>-120.38765</td>\n",
       "      <td>-120.448350</td>\n",
       "    </tr>\n",
       "    <tr>\n",
       "      <td>1</td>\n",
       "      <td>2021-05-16</td>\n",
       "      <td>01:49:12</td>\n",
       "      <td>1.419156e+09</td>\n",
       "      <td>1.421656e+09</td>\n",
       "      <td>2441.40625</td>\n",
       "      <td>52428800</td>\n",
       "      <td>-120.44074</td>\n",
       "      <td>-120.187004</td>\n",
       "      <td>-119.834700</td>\n",
       "      <td>-119.50197</td>\n",
       "      <td>...</td>\n",
       "      <td>-120.19367</td>\n",
       "      <td>-120.225860</td>\n",
       "      <td>-120.319244</td>\n",
       "      <td>-120.19197</td>\n",
       "      <td>-120.17726</td>\n",
       "      <td>-120.30832</td>\n",
       "      <td>-120.327970</td>\n",
       "      <td>-120.276870</td>\n",
       "      <td>-120.42566</td>\n",
       "      <td>-120.514565</td>\n",
       "    </tr>\n",
       "    <tr>\n",
       "      <td>2</td>\n",
       "      <td>2021-05-16</td>\n",
       "      <td>01:49:33</td>\n",
       "      <td>1.419156e+09</td>\n",
       "      <td>1.421656e+09</td>\n",
       "      <td>2441.40625</td>\n",
       "      <td>52428800</td>\n",
       "      <td>-120.43840</td>\n",
       "      <td>-120.201294</td>\n",
       "      <td>-119.854270</td>\n",
       "      <td>-119.53053</td>\n",
       "      <td>...</td>\n",
       "      <td>-120.21500</td>\n",
       "      <td>-120.257350</td>\n",
       "      <td>-120.322990</td>\n",
       "      <td>-120.19339</td>\n",
       "      <td>-120.18417</td>\n",
       "      <td>-120.30531</td>\n",
       "      <td>-120.327840</td>\n",
       "      <td>-120.307915</td>\n",
       "      <td>-120.44625</td>\n",
       "      <td>-120.530400</td>\n",
       "    </tr>\n",
       "    <tr>\n",
       "      <td>3</td>\n",
       "      <td>2021-05-16</td>\n",
       "      <td>01:49:54</td>\n",
       "      <td>1.419156e+09</td>\n",
       "      <td>1.421656e+09</td>\n",
       "      <td>2441.40625</td>\n",
       "      <td>52428800</td>\n",
       "      <td>-120.39651</td>\n",
       "      <td>-120.170020</td>\n",
       "      <td>-119.862785</td>\n",
       "      <td>-119.52336</td>\n",
       "      <td>...</td>\n",
       "      <td>-120.21735</td>\n",
       "      <td>-120.248955</td>\n",
       "      <td>-120.353680</td>\n",
       "      <td>-120.23220</td>\n",
       "      <td>-120.18565</td>\n",
       "      <td>-120.30141</td>\n",
       "      <td>-120.322716</td>\n",
       "      <td>-120.294266</td>\n",
       "      <td>-120.45053</td>\n",
       "      <td>-120.496530</td>\n",
       "    </tr>\n",
       "    <tr>\n",
       "      <td>4</td>\n",
       "      <td>2021-05-16</td>\n",
       "      <td>01:50:14</td>\n",
       "      <td>1.419156e+09</td>\n",
       "      <td>1.421656e+09</td>\n",
       "      <td>2441.40625</td>\n",
       "      <td>52428800</td>\n",
       "      <td>-120.42976</td>\n",
       "      <td>-120.180320</td>\n",
       "      <td>-119.888870</td>\n",
       "      <td>-119.55298</td>\n",
       "      <td>...</td>\n",
       "      <td>-120.22850</td>\n",
       "      <td>-120.266310</td>\n",
       "      <td>-120.345780</td>\n",
       "      <td>-120.21786</td>\n",
       "      <td>-120.20296</td>\n",
       "      <td>-120.35663</td>\n",
       "      <td>-120.333600</td>\n",
       "      <td>-120.327560</td>\n",
       "      <td>-120.47821</td>\n",
       "      <td>-120.508510</td>\n",
       "    </tr>\n",
       "  </tbody>\n",
       "</table>\n",
       "<p>5 rows × 1030 columns</p>\n",
       "</div>"
      ],
      "text/plain": [
       "         0          1             2             3           4         5     \\\n",
       "0  2021-05-16   01:48:51  1.419156e+09  1.421656e+09  2441.40625  52428800   \n",
       "1  2021-05-16   01:49:12  1.419156e+09  1.421656e+09  2441.40625  52428800   \n",
       "2  2021-05-16   01:49:33  1.419156e+09  1.421656e+09  2441.40625  52428800   \n",
       "3  2021-05-16   01:49:54  1.419156e+09  1.421656e+09  2441.40625  52428800   \n",
       "4  2021-05-16   01:50:14  1.419156e+09  1.421656e+09  2441.40625  52428800   \n",
       "\n",
       "        6           7           8          9     ...       1020        1021  \\\n",
       "0 -120.37350 -120.119286 -119.796770 -119.46457  ... -120.12666 -120.176170   \n",
       "1 -120.44074 -120.187004 -119.834700 -119.50197  ... -120.19367 -120.225860   \n",
       "2 -120.43840 -120.201294 -119.854270 -119.53053  ... -120.21500 -120.257350   \n",
       "3 -120.39651 -120.170020 -119.862785 -119.52336  ... -120.21735 -120.248955   \n",
       "4 -120.42976 -120.180320 -119.888870 -119.55298  ... -120.22850 -120.266310   \n",
       "\n",
       "         1022       1023       1024       1025        1026        1027  \\\n",
       "0 -120.278090 -120.14093 -120.11672 -120.24888 -120.255646 -120.244360   \n",
       "1 -120.319244 -120.19197 -120.17726 -120.30832 -120.327970 -120.276870   \n",
       "2 -120.322990 -120.19339 -120.18417 -120.30531 -120.327840 -120.307915   \n",
       "3 -120.353680 -120.23220 -120.18565 -120.30141 -120.322716 -120.294266   \n",
       "4 -120.345780 -120.21786 -120.20296 -120.35663 -120.333600 -120.327560   \n",
       "\n",
       "        1028        1029  \n",
       "0 -120.38765 -120.448350  \n",
       "1 -120.42566 -120.514565  \n",
       "2 -120.44625 -120.530400  \n",
       "3 -120.45053 -120.496530  \n",
       "4 -120.47821 -120.508510  \n",
       "\n",
       "[5 rows x 1030 columns]"
      ]
     },
     "execution_count": 167,
     "metadata": {},
     "output_type": "execute_result"
    }
   ],
   "source": [
    "dfhot.head()"
   ]
  },
  {
   "cell_type": "code",
   "execution_count": 168,
   "metadata": {},
   "outputs": [
    {
     "data": {
      "text/plain": [
       "(2109, 1030)"
      ]
     },
     "execution_count": 168,
     "metadata": {},
     "output_type": "execute_result"
    }
   ],
   "source": [
    "# How many rows?\n",
    "dfhot.shape"
   ]
  },
  {
   "cell_type": "code",
   "execution_count": 169,
   "metadata": {},
   "outputs": [],
   "source": [
    "# Read in the \"cold\" dataframe\n",
    "dfcold = pd.read_csv('/home/dcohen/Dropbox/Public/ra/laboratory/devel/soapy/data/airspy/spec_20210516.csv',header=None)"
   ]
  },
  {
   "cell_type": "code",
   "execution_count": 170,
   "metadata": {},
   "outputs": [
    {
     "data": {
      "text/html": [
       "<div>\n",
       "<style scoped>\n",
       "    .dataframe tbody tr th:only-of-type {\n",
       "        vertical-align: middle;\n",
       "    }\n",
       "\n",
       "    .dataframe tbody tr th {\n",
       "        vertical-align: top;\n",
       "    }\n",
       "\n",
       "    .dataframe thead th {\n",
       "        text-align: right;\n",
       "    }\n",
       "</style>\n",
       "<table border=\"1\" class=\"dataframe\">\n",
       "  <thead>\n",
       "    <tr style=\"text-align: right;\">\n",
       "      <th></th>\n",
       "      <th>0</th>\n",
       "      <th>1</th>\n",
       "      <th>2</th>\n",
       "      <th>3</th>\n",
       "      <th>4</th>\n",
       "      <th>5</th>\n",
       "      <th>6</th>\n",
       "      <th>7</th>\n",
       "      <th>8</th>\n",
       "      <th>9</th>\n",
       "      <th>...</th>\n",
       "      <th>1020</th>\n",
       "      <th>1021</th>\n",
       "      <th>1022</th>\n",
       "      <th>1023</th>\n",
       "      <th>1024</th>\n",
       "      <th>1025</th>\n",
       "      <th>1026</th>\n",
       "      <th>1027</th>\n",
       "      <th>1028</th>\n",
       "      <th>1029</th>\n",
       "    </tr>\n",
       "  </thead>\n",
       "  <tbody>\n",
       "    <tr>\n",
       "      <td>0</td>\n",
       "      <td>2021-05-16</td>\n",
       "      <td>01:48:51</td>\n",
       "      <td>1.419156e+09</td>\n",
       "      <td>1.421656e+09</td>\n",
       "      <td>2441.40625</td>\n",
       "      <td>52428800</td>\n",
       "      <td>-120.37350</td>\n",
       "      <td>-120.119286</td>\n",
       "      <td>-119.796770</td>\n",
       "      <td>-119.46457</td>\n",
       "      <td>...</td>\n",
       "      <td>-120.12666</td>\n",
       "      <td>-120.176170</td>\n",
       "      <td>-120.278090</td>\n",
       "      <td>-120.14093</td>\n",
       "      <td>-120.11672</td>\n",
       "      <td>-120.24888</td>\n",
       "      <td>-120.255646</td>\n",
       "      <td>-120.244360</td>\n",
       "      <td>-120.38765</td>\n",
       "      <td>-120.448350</td>\n",
       "    </tr>\n",
       "    <tr>\n",
       "      <td>1</td>\n",
       "      <td>2021-05-16</td>\n",
       "      <td>01:49:12</td>\n",
       "      <td>1.419156e+09</td>\n",
       "      <td>1.421656e+09</td>\n",
       "      <td>2441.40625</td>\n",
       "      <td>52428800</td>\n",
       "      <td>-120.44074</td>\n",
       "      <td>-120.187004</td>\n",
       "      <td>-119.834700</td>\n",
       "      <td>-119.50197</td>\n",
       "      <td>...</td>\n",
       "      <td>-120.19367</td>\n",
       "      <td>-120.225860</td>\n",
       "      <td>-120.319244</td>\n",
       "      <td>-120.19197</td>\n",
       "      <td>-120.17726</td>\n",
       "      <td>-120.30832</td>\n",
       "      <td>-120.327970</td>\n",
       "      <td>-120.276870</td>\n",
       "      <td>-120.42566</td>\n",
       "      <td>-120.514565</td>\n",
       "    </tr>\n",
       "    <tr>\n",
       "      <td>2</td>\n",
       "      <td>2021-05-16</td>\n",
       "      <td>01:49:33</td>\n",
       "      <td>1.419156e+09</td>\n",
       "      <td>1.421656e+09</td>\n",
       "      <td>2441.40625</td>\n",
       "      <td>52428800</td>\n",
       "      <td>-120.43840</td>\n",
       "      <td>-120.201294</td>\n",
       "      <td>-119.854270</td>\n",
       "      <td>-119.53053</td>\n",
       "      <td>...</td>\n",
       "      <td>-120.21500</td>\n",
       "      <td>-120.257350</td>\n",
       "      <td>-120.322990</td>\n",
       "      <td>-120.19339</td>\n",
       "      <td>-120.18417</td>\n",
       "      <td>-120.30531</td>\n",
       "      <td>-120.327840</td>\n",
       "      <td>-120.307915</td>\n",
       "      <td>-120.44625</td>\n",
       "      <td>-120.530400</td>\n",
       "    </tr>\n",
       "    <tr>\n",
       "      <td>3</td>\n",
       "      <td>2021-05-16</td>\n",
       "      <td>01:49:54</td>\n",
       "      <td>1.419156e+09</td>\n",
       "      <td>1.421656e+09</td>\n",
       "      <td>2441.40625</td>\n",
       "      <td>52428800</td>\n",
       "      <td>-120.39651</td>\n",
       "      <td>-120.170020</td>\n",
       "      <td>-119.862785</td>\n",
       "      <td>-119.52336</td>\n",
       "      <td>...</td>\n",
       "      <td>-120.21735</td>\n",
       "      <td>-120.248955</td>\n",
       "      <td>-120.353680</td>\n",
       "      <td>-120.23220</td>\n",
       "      <td>-120.18565</td>\n",
       "      <td>-120.30141</td>\n",
       "      <td>-120.322716</td>\n",
       "      <td>-120.294266</td>\n",
       "      <td>-120.45053</td>\n",
       "      <td>-120.496530</td>\n",
       "    </tr>\n",
       "    <tr>\n",
       "      <td>4</td>\n",
       "      <td>2021-05-16</td>\n",
       "      <td>01:50:14</td>\n",
       "      <td>1.419156e+09</td>\n",
       "      <td>1.421656e+09</td>\n",
       "      <td>2441.40625</td>\n",
       "      <td>52428800</td>\n",
       "      <td>-120.42976</td>\n",
       "      <td>-120.180320</td>\n",
       "      <td>-119.888870</td>\n",
       "      <td>-119.55298</td>\n",
       "      <td>...</td>\n",
       "      <td>-120.22850</td>\n",
       "      <td>-120.266310</td>\n",
       "      <td>-120.345780</td>\n",
       "      <td>-120.21786</td>\n",
       "      <td>-120.20296</td>\n",
       "      <td>-120.35663</td>\n",
       "      <td>-120.333600</td>\n",
       "      <td>-120.327560</td>\n",
       "      <td>-120.47821</td>\n",
       "      <td>-120.508510</td>\n",
       "    </tr>\n",
       "  </tbody>\n",
       "</table>\n",
       "<p>5 rows × 1030 columns</p>\n",
       "</div>"
      ],
      "text/plain": [
       "         0          1             2             3           4         5     \\\n",
       "0  2021-05-16   01:48:51  1.419156e+09  1.421656e+09  2441.40625  52428800   \n",
       "1  2021-05-16   01:49:12  1.419156e+09  1.421656e+09  2441.40625  52428800   \n",
       "2  2021-05-16   01:49:33  1.419156e+09  1.421656e+09  2441.40625  52428800   \n",
       "3  2021-05-16   01:49:54  1.419156e+09  1.421656e+09  2441.40625  52428800   \n",
       "4  2021-05-16   01:50:14  1.419156e+09  1.421656e+09  2441.40625  52428800   \n",
       "\n",
       "        6           7           8          9     ...       1020        1021  \\\n",
       "0 -120.37350 -120.119286 -119.796770 -119.46457  ... -120.12666 -120.176170   \n",
       "1 -120.44074 -120.187004 -119.834700 -119.50197  ... -120.19367 -120.225860   \n",
       "2 -120.43840 -120.201294 -119.854270 -119.53053  ... -120.21500 -120.257350   \n",
       "3 -120.39651 -120.170020 -119.862785 -119.52336  ... -120.21735 -120.248955   \n",
       "4 -120.42976 -120.180320 -119.888870 -119.55298  ... -120.22850 -120.266310   \n",
       "\n",
       "         1022       1023       1024       1025        1026        1027  \\\n",
       "0 -120.278090 -120.14093 -120.11672 -120.24888 -120.255646 -120.244360   \n",
       "1 -120.319244 -120.19197 -120.17726 -120.30832 -120.327970 -120.276870   \n",
       "2 -120.322990 -120.19339 -120.18417 -120.30531 -120.327840 -120.307915   \n",
       "3 -120.353680 -120.23220 -120.18565 -120.30141 -120.322716 -120.294266   \n",
       "4 -120.345780 -120.21786 -120.20296 -120.35663 -120.333600 -120.327560   \n",
       "\n",
       "        1028        1029  \n",
       "0 -120.38765 -120.448350  \n",
       "1 -120.42566 -120.514565  \n",
       "2 -120.44625 -120.530400  \n",
       "3 -120.45053 -120.496530  \n",
       "4 -120.47821 -120.508510  \n",
       "\n",
       "[5 rows x 1030 columns]"
      ]
     },
     "execution_count": 170,
     "metadata": {},
     "output_type": "execute_result"
    }
   ],
   "source": [
    "dfcold.head()"
   ]
  },
  {
   "cell_type": "code",
   "execution_count": 171,
   "metadata": {},
   "outputs": [],
   "source": [
    "# Set the rows to read\n",
    "row_sky = 1400\n",
    "row_cold = 500"
   ]
  },
  {
   "cell_type": "code",
   "execution_count": 172,
   "metadata": {},
   "outputs": [],
   "source": [
    "# Get observation date and time\n",
    "obs_date = dfhot.iloc[row_sky,0]\n",
    "obs_time = dfhot.iloc[row_sky,1]"
   ]
  },
  {
   "cell_type": "code",
   "execution_count": 173,
   "metadata": {},
   "outputs": [
    {
     "data": {
      "text/plain": [
       "' 09:58:11'"
      ]
     },
     "execution_count": 173,
     "metadata": {},
     "output_type": "execute_result"
    }
   ],
   "source": [
    "obs_time"
   ]
  },
  {
   "cell_type": "code",
   "execution_count": 174,
   "metadata": {},
   "outputs": [],
   "source": [
    "# Get only the actual data in a single row, leaving out the time - starting from column 6 to end\n",
    "dfhot_series = dfhot.iloc[row_sky,6:]"
   ]
  },
  {
   "cell_type": "code",
   "execution_count": 175,
   "metadata": {},
   "outputs": [
    {
     "data": {
      "text/plain": [
       "6      -120.472\n",
       "7      -120.225\n",
       "8      -119.912\n",
       "9      -119.569\n",
       "10     -119.368\n",
       "         ...   \n",
       "1025   -120.341\n",
       "1026   -120.345\n",
       "1027   -120.338\n",
       "1028   -120.499\n",
       "1029   -120.553\n",
       "Name: 1400, Length: 1024, dtype: object"
      ]
     },
     "execution_count": 175,
     "metadata": {},
     "output_type": "execute_result"
    }
   ],
   "source": [
    "dfhot_series"
   ]
  },
  {
   "cell_type": "code",
   "execution_count": 176,
   "metadata": {},
   "outputs": [],
   "source": [
    "# Do the same with the cold data, picking the zeroth row in the cold file - starting from column 6 to end\n",
    "dfcold_series = dfcold.iloc[row_cold,6:]"
   ]
  },
  {
   "cell_type": "code",
   "execution_count": 177,
   "metadata": {},
   "outputs": [
    {
     "data": {
      "text/plain": [
       "6      -120.478\n",
       "7      -120.245\n",
       "8      -119.932\n",
       "9      -119.602\n",
       "10     -119.423\n",
       "         ...   \n",
       "1025   -120.393\n",
       "1026   -120.404\n",
       "1027    -120.37\n",
       "1028   -120.519\n",
       "1029    -120.57\n",
       "Name: 500, Length: 1024, dtype: object"
      ]
     },
     "execution_count": 177,
     "metadata": {},
     "output_type": "execute_result"
    }
   ],
   "source": [
    "dfcold_series"
   ]
  },
  {
   "cell_type": "code",
   "execution_count": 178,
   "metadata": {},
   "outputs": [],
   "source": [
    "# Try scaling the cold series to see if the correction can be improved\n",
    "dfcold_series = dfcold_series * 1.011"
   ]
  },
  {
   "cell_type": "code",
   "execution_count": 179,
   "metadata": {},
   "outputs": [],
   "source": [
    "# Subtract the cold from the hot series\n",
    "corrected_series = dfhot_series.subtract(dfcold_series)"
   ]
  },
  {
   "cell_type": "code",
   "execution_count": 180,
   "metadata": {},
   "outputs": [
    {
     "data": {
      "text/plain": [
       "6       1.33081\n",
       "7       1.34291\n",
       "8       1.33886\n",
       "9        1.3489\n",
       "10      1.36866\n",
       "         ...   \n",
       "1025    1.37679\n",
       "1026    1.38281\n",
       "1027     1.3559\n",
       "1028    1.34539\n",
       "1029    1.34387\n",
       "Length: 1024, dtype: object"
      ]
     },
     "execution_count": 180,
     "metadata": {},
     "output_type": "execute_result"
    }
   ],
   "source": [
    "corrected_series"
   ]
  },
  {
   "cell_type": "code",
   "execution_count": 181,
   "metadata": {
    "scrolled": true
   },
   "outputs": [
    {
     "data": {
      "image/png": "[encoded data removed]",
      "text/plain": [
       "<Figure size 432x288 with 1 Axes>"
      ]
     },
     "metadata": {
      "needs_background": "light"
     },
     "output_type": "display_data"
    }
   ],
   "source": [
    "# Let's see what it looks like - should be flat w/ no IF spike\n",
    "corrected_series.plot(x='Sample Number', y = 'Power, dB')\n",
    "plt.show()"
   ]
  },
  {
   "cell_type": "code",
   "execution_count": null,
   "metadata": {},
   "outputs": [],
   "source": []
  }
 ],
 "metadata": {
  "kernelspec": {
   "display_name": "Python 3",
   "language": "python",
   "name": "python3"
  },
  "language_info": {
   "codemirror_mode": {
    "name": "ipython",
    "version": 3
   },
   "file_extension": ".py",
   "mimetype": "text/x-python",
   "name": "python",
   "nbconvert_exporter": "python",
   "pygments_lexer": "ipython3",
   "version": "3.7.4"
  }
 },
 "nbformat": 4,
 "nbformat_minor": 2
}
