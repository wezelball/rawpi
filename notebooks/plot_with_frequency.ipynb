{
 "cells": [
  {
   "cell_type": "code",
   "execution_count": 1,
   "metadata": {},
   "outputs": [],
   "source": [
    "# This code is kind of old and needs updating - like the ability to plot a window,\n",
    "# not just the entire record"
   ]
  },
  {
   "cell_type": "code",
   "execution_count": 2,
   "metadata": {},
   "outputs": [],
   "source": [
    "# Imports\n",
    "import numpy as np\n",
    "import pandas as pd\n",
    "from matplotlib import pyplot as plt"
   ]
  },
  {
   "cell_type": "code",
   "execution_count": 3,
   "metadata": {},
   "outputs": [],
   "source": [
    "# Some initial values we can adjust\n",
    "row = 216\n",
    "#row = 0\n",
    "\n",
    "# The number of FFT bins - this should be calculated\n",
    "# IS IS NOW\n",
    "#bins = 2048\n"
   ]
  },
  {
   "cell_type": "code",
   "execution_count": 4,
   "metadata": {},
   "outputs": [],
   "source": [
    "# Read in the \"hot\" dataframe\n",
    "df = pd.read_csv('/home/dcohen/Dropbox/Public/ra/laboratory/wire_grid_1420/soapy_power/data/rtl-sdr/spec_rtl1_20210620.csv',header=None)"
   ]
  },
  {
   "cell_type": "code",
   "execution_count": 5,
   "metadata": {},
   "outputs": [
    {
     "data": {
      "text/html": [
       "<div>\n",
       "<style scoped>\n",
       "    .dataframe tbody tr th:only-of-type {\n",
       "        vertical-align: middle;\n",
       "    }\n",
       "\n",
       "    .dataframe tbody tr th {\n",
       "        vertical-align: top;\n",
       "    }\n",
       "\n",
       "    .dataframe thead th {\n",
       "        text-align: right;\n",
       "    }\n",
       "</style>\n",
       "<table border=\"1\" class=\"dataframe\">\n",
       "  <thead>\n",
       "    <tr style=\"text-align: right;\">\n",
       "      <th></th>\n",
       "      <th>0</th>\n",
       "      <th>1</th>\n",
       "      <th>2</th>\n",
       "      <th>3</th>\n",
       "      <th>4</th>\n",
       "      <th>5</th>\n",
       "      <th>6</th>\n",
       "      <th>7</th>\n",
       "      <th>8</th>\n",
       "      <th>9</th>\n",
       "      <th>...</th>\n",
       "      <th>1020</th>\n",
       "      <th>1021</th>\n",
       "      <th>1022</th>\n",
       "      <th>1023</th>\n",
       "      <th>1024</th>\n",
       "      <th>1025</th>\n",
       "      <th>1026</th>\n",
       "      <th>1027</th>\n",
       "      <th>1028</th>\n",
       "      <th>1029</th>\n",
       "    </tr>\n",
       "  </thead>\n",
       "  <tbody>\n",
       "    <tr>\n",
       "      <td>0</td>\n",
       "      <td>2021-06-20</td>\n",
       "      <td>04:00:05</td>\n",
       "      <td>1.419126e+09</td>\n",
       "      <td>1.421686e+09</td>\n",
       "      <td>2500.0</td>\n",
       "      <td>157286400</td>\n",
       "      <td>1.772288e-09</td>\n",
       "      <td>1.768865e-09</td>\n",
       "      <td>1.771376e-09</td>\n",
       "      <td>1.767619e-09</td>\n",
       "      <td>...</td>\n",
       "      <td>1.869098e-09</td>\n",
       "      <td>1.854827e-09</td>\n",
       "      <td>1.845926e-09</td>\n",
       "      <td>1.833804e-09</td>\n",
       "      <td>1.822265e-09</td>\n",
       "      <td>1.814897e-09</td>\n",
       "      <td>1.803580e-09</td>\n",
       "      <td>1.795567e-09</td>\n",
       "      <td>1.786079e-09</td>\n",
       "      <td>1.780976e-09</td>\n",
       "    </tr>\n",
       "    <tr>\n",
       "      <td>1</td>\n",
       "      <td>2021-06-20</td>\n",
       "      <td>04:01:07</td>\n",
       "      <td>1.419126e+09</td>\n",
       "      <td>1.421686e+09</td>\n",
       "      <td>2500.0</td>\n",
       "      <td>157286400</td>\n",
       "      <td>1.661812e-09</td>\n",
       "      <td>1.660347e-09</td>\n",
       "      <td>1.654112e-09</td>\n",
       "      <td>1.651025e-09</td>\n",
       "      <td>...</td>\n",
       "      <td>1.757110e-09</td>\n",
       "      <td>1.744314e-09</td>\n",
       "      <td>1.726784e-09</td>\n",
       "      <td>1.716317e-09</td>\n",
       "      <td>1.708093e-09</td>\n",
       "      <td>1.696377e-09</td>\n",
       "      <td>1.691649e-09</td>\n",
       "      <td>1.685551e-09</td>\n",
       "      <td>1.672757e-09</td>\n",
       "      <td>1.667431e-09</td>\n",
       "    </tr>\n",
       "    <tr>\n",
       "      <td>2</td>\n",
       "      <td>2021-06-20</td>\n",
       "      <td>04:02:08</td>\n",
       "      <td>1.419126e+09</td>\n",
       "      <td>1.421686e+09</td>\n",
       "      <td>2500.0</td>\n",
       "      <td>157286400</td>\n",
       "      <td>1.591248e-09</td>\n",
       "      <td>1.587852e-09</td>\n",
       "      <td>1.588650e-09</td>\n",
       "      <td>1.584602e-09</td>\n",
       "      <td>...</td>\n",
       "      <td>1.686869e-09</td>\n",
       "      <td>1.672589e-09</td>\n",
       "      <td>1.662453e-09</td>\n",
       "      <td>1.652248e-09</td>\n",
       "      <td>1.640736e-09</td>\n",
       "      <td>1.625903e-09</td>\n",
       "      <td>1.620601e-09</td>\n",
       "      <td>1.619405e-09</td>\n",
       "      <td>1.612137e-09</td>\n",
       "      <td>1.601925e-09</td>\n",
       "    </tr>\n",
       "    <tr>\n",
       "      <td>3</td>\n",
       "      <td>2021-06-20</td>\n",
       "      <td>04:03:09</td>\n",
       "      <td>1.419126e+09</td>\n",
       "      <td>1.421686e+09</td>\n",
       "      <td>2500.0</td>\n",
       "      <td>157286400</td>\n",
       "      <td>1.537425e-09</td>\n",
       "      <td>1.529988e-09</td>\n",
       "      <td>1.529226e-09</td>\n",
       "      <td>1.531544e-09</td>\n",
       "      <td>...</td>\n",
       "      <td>1.633025e-09</td>\n",
       "      <td>1.611693e-09</td>\n",
       "      <td>1.598114e-09</td>\n",
       "      <td>1.593419e-09</td>\n",
       "      <td>1.585943e-09</td>\n",
       "      <td>1.575731e-09</td>\n",
       "      <td>1.566377e-09</td>\n",
       "      <td>1.562734e-09</td>\n",
       "      <td>1.553330e-09</td>\n",
       "      <td>1.542606e-09</td>\n",
       "    </tr>\n",
       "    <tr>\n",
       "      <td>4</td>\n",
       "      <td>2021-06-20</td>\n",
       "      <td>04:04:11</td>\n",
       "      <td>1.419126e+09</td>\n",
       "      <td>1.421686e+09</td>\n",
       "      <td>2500.0</td>\n",
       "      <td>157286400</td>\n",
       "      <td>1.496013e-09</td>\n",
       "      <td>1.493547e-09</td>\n",
       "      <td>1.488204e-09</td>\n",
       "      <td>1.486112e-09</td>\n",
       "      <td>...</td>\n",
       "      <td>1.576529e-09</td>\n",
       "      <td>1.560937e-09</td>\n",
       "      <td>1.552786e-09</td>\n",
       "      <td>1.548197e-09</td>\n",
       "      <td>1.539485e-09</td>\n",
       "      <td>1.528127e-09</td>\n",
       "      <td>1.517700e-09</td>\n",
       "      <td>1.512148e-09</td>\n",
       "      <td>1.503980e-09</td>\n",
       "      <td>1.496272e-09</td>\n",
       "    </tr>\n",
       "  </tbody>\n",
       "</table>\n",
       "<p>5 rows × 1030 columns</p>\n",
       "</div>"
      ],
      "text/plain": [
       "         0          1             2             3       4          5     \\\n",
       "0  2021-06-20   04:00:05  1.419126e+09  1.421686e+09  2500.0  157286400   \n",
       "1  2021-06-20   04:01:07  1.419126e+09  1.421686e+09  2500.0  157286400   \n",
       "2  2021-06-20   04:02:08  1.419126e+09  1.421686e+09  2500.0  157286400   \n",
       "3  2021-06-20   04:03:09  1.419126e+09  1.421686e+09  2500.0  157286400   \n",
       "4  2021-06-20   04:04:11  1.419126e+09  1.421686e+09  2500.0  157286400   \n",
       "\n",
       "           6             7             8             9     ...          1020  \\\n",
       "0  1.772288e-09  1.768865e-09  1.771376e-09  1.767619e-09  ...  1.869098e-09   \n",
       "1  1.661812e-09  1.660347e-09  1.654112e-09  1.651025e-09  ...  1.757110e-09   \n",
       "2  1.591248e-09  1.587852e-09  1.588650e-09  1.584602e-09  ...  1.686869e-09   \n",
       "3  1.537425e-09  1.529988e-09  1.529226e-09  1.531544e-09  ...  1.633025e-09   \n",
       "4  1.496013e-09  1.493547e-09  1.488204e-09  1.486112e-09  ...  1.576529e-09   \n",
       "\n",
       "           1021          1022          1023          1024          1025  \\\n",
       "0  1.854827e-09  1.845926e-09  1.833804e-09  1.822265e-09  1.814897e-09   \n",
       "1  1.744314e-09  1.726784e-09  1.716317e-09  1.708093e-09  1.696377e-09   \n",
       "2  1.672589e-09  1.662453e-09  1.652248e-09  1.640736e-09  1.625903e-09   \n",
       "3  1.611693e-09  1.598114e-09  1.593419e-09  1.585943e-09  1.575731e-09   \n",
       "4  1.560937e-09  1.552786e-09  1.548197e-09  1.539485e-09  1.528127e-09   \n",
       "\n",
       "           1026          1027          1028          1029  \n",
       "0  1.803580e-09  1.795567e-09  1.786079e-09  1.780976e-09  \n",
       "1  1.691649e-09  1.685551e-09  1.672757e-09  1.667431e-09  \n",
       "2  1.620601e-09  1.619405e-09  1.612137e-09  1.601925e-09  \n",
       "3  1.566377e-09  1.562734e-09  1.553330e-09  1.542606e-09  \n",
       "4  1.517700e-09  1.512148e-09  1.503980e-09  1.496272e-09  \n",
       "\n",
       "[5 rows x 1030 columns]"
      ]
     },
     "execution_count": 5,
     "metadata": {},
     "output_type": "execute_result"
    }
   ],
   "source": [
    "df.head()"
   ]
  },
  {
   "cell_type": "code",
   "execution_count": 6,
   "metadata": {},
   "outputs": [],
   "source": [
    "# Calculate number of bins\n",
    "bins = df.shape[1] - 6\n",
    "#print(f'number of bins: {fft_num_bins}')"
   ]
  },
  {
   "cell_type": "markdown",
   "metadata": {},
   "source": [
    "### Read in the \"hot\" dataframe\n",
    "Cols 2 thru 5 define the frequency and bin information, as follows:\n",
    "    Col 2: Start freq, in Hz\n",
    "    Col 3: End freq, in Hz\n",
    "    Col 4: Bin size, in Hz\n",
    "    Col 5: Buffer size, in samples\n"
   ]
  },
  {
   "cell_type": "code",
   "execution_count": 7,
   "metadata": {},
   "outputs": [],
   "source": [
    "# Let' start by making a frequency series that has the same length as the data series (1024 columns)\n",
    "# I shouldn't hardcode the number of columns but rather calculate it - dood"
   ]
  },
  {
   "cell_type": "code",
   "execution_count": 8,
   "metadata": {},
   "outputs": [
    {
     "data": {
      "text/plain": [
       "array([1.41915600e+09, 1.41915844e+09, 1.41916089e+09, ...,\n",
       "       1.42165111e+09, 1.42165356e+09, 1.42165600e+09])"
      ]
     },
     "execution_count": 8,
     "metadata": {},
     "output_type": "execute_result"
    }
   ],
   "source": [
    "# numpy.linspace(start, stop, num=50, endpoint=True, retstep=False, dtype=None, axis=0)\n",
    "np.linspace(1.419156e9, 1.421656e9, num = bins, endpoint=True)"
   ]
  },
  {
   "cell_type": "code",
   "execution_count": 9,
   "metadata": {},
   "outputs": [],
   "source": [
    "# Convert nparray into a series\n",
    "freq_series = pd.Series(np.linspace(1.419156e9, 1.421656e9, num = bins, endpoint=True))"
   ]
  },
  {
   "cell_type": "code",
   "execution_count": 10,
   "metadata": {},
   "outputs": [
    {
     "data": {
      "text/plain": [
       "0       1.419156e+09\n",
       "1       1.419158e+09\n",
       "2       1.419161e+09\n",
       "3       1.419163e+09\n",
       "4       1.419166e+09\n",
       "            ...     \n",
       "1019    1.421646e+09\n",
       "1020    1.421649e+09\n",
       "1021    1.421651e+09\n",
       "1022    1.421654e+09\n",
       "1023    1.421656e+09\n",
       "Length: 1024, dtype: float64"
      ]
     },
     "execution_count": 10,
     "metadata": {},
     "output_type": "execute_result"
    }
   ],
   "source": [
    "freq_series"
   ]
  },
  {
   "cell_type": "code",
   "execution_count": 11,
   "metadata": {},
   "outputs": [],
   "source": [
    "# Get only the actual data in a single row, leaving out the time - starting from column 6 to end\n",
    "dfhot_series = df.iloc[row,6:]"
   ]
  },
  {
   "cell_type": "code",
   "execution_count": 12,
   "metadata": {},
   "outputs": [
    {
     "data": {
      "text/plain": [
       "6       1.18458e-09\n",
       "7        1.1829e-09\n",
       "8       1.17847e-09\n",
       "9       1.17732e-09\n",
       "10      1.17978e-09\n",
       "           ...     \n",
       "1025    1.21274e-09\n",
       "1026    1.20232e-09\n",
       "1027    1.19765e-09\n",
       "1028    1.19835e-09\n",
       "1029    1.18805e-09\n",
       "Name: 216, Length: 1024, dtype: object"
      ]
     },
     "execution_count": 12,
     "metadata": {},
     "output_type": "execute_result"
    }
   ],
   "source": [
    "dfhot_series"
   ]
  },
  {
   "cell_type": "code",
   "execution_count": 13,
   "metadata": {},
   "outputs": [],
   "source": [
    "# This replaces the integer index with the frequency increments\n",
    "dfhot_series.index = freq_series"
   ]
  },
  {
   "cell_type": "code",
   "execution_count": 14,
   "metadata": {},
   "outputs": [
    {
     "data": {
      "text/plain": [
       "1.419156e+09    1.18458e-09\n",
       "1.419158e+09     1.1829e-09\n",
       "1.419161e+09    1.17847e-09\n",
       "1.419163e+09    1.17732e-09\n",
       "1.419166e+09    1.17978e-09\n",
       "                   ...     \n",
       "1.421646e+09    1.21274e-09\n",
       "1.421649e+09    1.20232e-09\n",
       "1.421651e+09    1.19765e-09\n",
       "1.421654e+09    1.19835e-09\n",
       "1.421656e+09    1.18805e-09\n",
       "Name: 216, Length: 1024, dtype: object"
      ]
     },
     "execution_count": 14,
     "metadata": {},
     "output_type": "execute_result"
    }
   ],
   "source": [
    "# Thanks, stackoverflow - I would've never figured this out\n",
    "dfhot_series"
   ]
  },
  {
   "cell_type": "code",
   "execution_count": 15,
   "metadata": {},
   "outputs": [
    {
     "data": {
      "image/png": "[encoded data removed]",
      "text/plain": [
       "<Figure size 1080x720 with 1 Axes>"
      ]
     },
     "metadata": {
      "needs_background": "light"
     },
     "output_type": "display_data"
    }
   ],
   "source": [
    "# I can do better than this - how about plotting hot and ref together?\n",
    "dfhot_series.plot(figsize=(15,10))\n",
    "plt.show()"
   ]
  },
  {
   "cell_type": "code",
   "execution_count": 16,
   "metadata": {},
   "outputs": [],
   "source": [
    "# Oooooooooooooowahhhhhhhhhh!!"
   ]
  }
 ],
 "metadata": {
  "kernelspec": {
   "display_name": "Python 3",
   "language": "python",
   "name": "python3"
  },
  "language_info": {
   "codemirror_mode": {
    "name": "ipython",
    "version": 3
   },
   "file_extension": ".py",
   "mimetype": "text/x-python",
   "name": "python",
   "nbconvert_exporter": "python",
   "pygments_lexer": "ipython3",
   "version": "3.7.4"
  }
 },
 "nbformat": 4,
 "nbformat_minor": 2
}
